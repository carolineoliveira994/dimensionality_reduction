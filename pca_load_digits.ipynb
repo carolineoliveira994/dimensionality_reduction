{
  "nbformat": 4,
  "nbformat_minor": 0,
  "metadata": {
    "colab": {
      "private_outputs": true,
      "provenance": [],
      "authorship_tag": "ABX9TyMu5k0APTMksXJo3vFBuosk",
      "include_colab_link": true
    },
    "kernelspec": {
      "name": "python3",
      "display_name": "Python 3"
    },
    "language_info": {
      "name": "python"
    }
  },
  "cells": [
    {
      "cell_type": "markdown",
      "metadata": {
        "id": "view-in-github",
        "colab_type": "text"
      },
      "source": [
        "<a href=\"https://colab.research.google.com/github/carolineoliveira994/dimensionality_reduction/blob/main/pca_load_digits.ipynb\" target=\"_parent\"><img src=\"https://colab.research.google.com/assets/colab-badge.svg\" alt=\"Open In Colab\"/></a>"
      ]
    },
    {
      "cell_type": "code",
      "execution_count": null,
      "metadata": {
        "id": "0xxkUWAhfafP"
      },
      "outputs": [],
      "source": [
        "import numpy as np\n",
        "import pandas as pd\n",
        "import seaborn as sns\n",
        "import matplotlib.pyplot as plt\n",
        "\n",
        "from sklearn.decomposition import PCA\n",
        "\n",
        "from sklearn.datasets import load_digits\n",
        "\n",
        "%matplotlib inline"
      ]
    },
    {
      "cell_type": "code",
      "source": [
        "digits = load_digits()\n",
        "print(digits.data.shape)\n",
        "print(digits.images.shape)\n",
        "print(np.unique(digits.target, return_counts=True))"
      ],
      "metadata": {
        "id": "S6cRTLonflod"
      },
      "execution_count": null,
      "outputs": []
    },
    {
      "cell_type": "code",
      "source": [
        "plt.gray()\n",
        "plt.imshow(digits.images[9])"
      ],
      "metadata": {
        "id": "CRe-WFAFfoU1"
      },
      "execution_count": null,
      "outputs": []
    },
    {
      "cell_type": "code",
      "source": [
        "digits.images[9].shape"
      ],
      "metadata": {
        "id": "N5XDyf4Lfo8t"
      },
      "execution_count": null,
      "outputs": []
    },
    {
      "cell_type": "code",
      "source": [
        "pca = PCA(n_components=8)\n",
        "pca.fit(digits.data)"
      ],
      "metadata": {
        "id": "ly4dH9cofszc"
      },
      "execution_count": null,
      "outputs": []
    },
    {
      "cell_type": "code",
      "source": [
        "pca.components_.shape"
      ],
      "metadata": {
        "id": "P0WklN9wfuz7"
      },
      "execution_count": null,
      "outputs": []
    },
    {
      "cell_type": "code",
      "source": [
        "pc_labels = []\n",
        "\n",
        "for i in range(pca.components_.shape[0]):\n",
        "    pc_labels.append('PC{}'.format(i+1))\n",
        "\n",
        "print(pc_labels)"
      ],
      "metadata": {
        "id": "5z9WkNwcfwR_"
      },
      "execution_count": null,
      "outputs": []
    },
    {
      "cell_type": "code",
      "source": [
        "plt.rcParams['figure.figsize'] = (14, 8)\n",
        "\n",
        "sns.set(font_scale=2)"
      ],
      "metadata": {
        "id": "ZmVi0emgfyZO"
      },
      "execution_count": null,
      "outputs": []
    },
    {
      "cell_type": "code",
      "source": [
        "data = {'Variance':pca.explained_variance_ratio_, 'Principal Components': pc_labels}\n",
        "\n",
        "df_variance = pd.DataFrame(data)\n",
        "sns.barplot(x='Principal Components', y='Variance', data=df_variance, color='c');"
      ],
      "metadata": {
        "id": "80lApsNMf0d5"
      },
      "execution_count": null,
      "outputs": []
    },
    {
      "cell_type": "code",
      "source": [
        "pca = PCA(n_components=2)\n",
        "digits_transformed = pca.fit_transform(digits.data)\n",
        "print(digits_transformed.shape)"
      ],
      "metadata": {
        "id": "Tu_EhuNzf21e"
      },
      "execution_count": null,
      "outputs": []
    },
    {
      "cell_type": "code",
      "source": [
        "df = pd.DataFrame(digits_transformed, columns=['x', 'y'])\n",
        "df['label'] = digits.target\n",
        "df.head()"
      ],
      "metadata": {
        "id": "pu9-o0Vgf47n"
      },
      "execution_count": null,
      "outputs": []
    },
    {
      "cell_type": "code",
      "source": [
        "_ = sns.scatterplot(x='x', y='y', data=df, hue='label', palette='rainbow', legend='full')"
      ],
      "metadata": {
        "id": "b7gqwxJif6ng"
      },
      "execution_count": null,
      "outputs": []
    }
  ]
}