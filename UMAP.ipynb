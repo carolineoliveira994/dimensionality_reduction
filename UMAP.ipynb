{
  "nbformat": 4,
  "nbformat_minor": 0,
  "metadata": {
    "colab": {
      "private_outputs": true,
      "provenance": [],
      "authorship_tag": "ABX9TyPgqskdZ0UFCWZ4hpMleLZN",
      "include_colab_link": true
    },
    "kernelspec": {
      "name": "python3",
      "display_name": "Python 3"
    },
    "language_info": {
      "name": "python"
    }
  },
  "cells": [
    {
      "cell_type": "markdown",
      "metadata": {
        "id": "view-in-github",
        "colab_type": "text"
      },
      "source": [
        "<a href=\"https://colab.research.google.com/github/carolineoliveira994/dimensionality_reduction/blob/main/UMAP.ipynb\" target=\"_parent\"><img src=\"https://colab.research.google.com/assets/colab-badge.svg\" alt=\"Open In Colab\"/></a>"
      ]
    },
    {
      "cell_type": "markdown",
      "source": [
        "uniform manifold approximation and projetion\n",
        "\n",
        "pode ser utilizado apra visualização (assim como t-SNE), mas também para redução de dimensionalidade em geral;\n",
        "\n",
        "possui fundamentação teórica e matemática rigorosa\n",
        "\n",
        "matematica e topologia para ml\n",
        "\n",
        "NUMBA"
      ],
      "metadata": {
        "id": "l8HdHP7BS5Ra"
      }
    },
    {
      "cell_type": "code",
      "source": [
        "!pip install umap-learn"
      ],
      "metadata": {
        "id": "qu11uTdmRotZ"
      },
      "execution_count": null,
      "outputs": []
    },
    {
      "cell_type": "code",
      "source": [
        "import numpy as np\n",
        "import umap\n",
        "import matplotlib.pyplot as plt\n",
        "import pandas as pd\n",
        "import seaborn as sns\n",
        "\n",
        "from sklearn.datasets import load_digits\n",
        "\n",
        "%matplotlib inline"
      ],
      "metadata": {
        "id": "EOAyWiRsSDB3"
      },
      "execution_count": null,
      "outputs": []
    },
    {
      "cell_type": "code",
      "source": [
        "digits = load_digits()\n",
        "print(digits.data.shape)\n",
        "print(digits.images.shape)\n",
        "print(np.unique(digits.target, return_counts=True))"
      ],
      "metadata": {
        "id": "H6T1SvB3RTuZ"
      },
      "execution_count": null,
      "outputs": []
    },
    {
      "cell_type": "code",
      "source": [
        "plt.gray()\n",
        "plt.imshow(digits.images[9])"
      ],
      "metadata": {
        "id": "RsHRsSY0X0zY"
      },
      "execution_count": null,
      "outputs": []
    },
    {
      "cell_type": "markdown",
      "source": [
        "aplicar UMAP"
      ],
      "metadata": {
        "id": "2glHF3-3YFCs"
      }
    },
    {
      "cell_type": "code",
      "source": [
        "digits_transformed = umap.UMAP(n_neighbors=5).fit_transform(digits.data)\n",
        "print(digits_transformed.shape)"
      ],
      "metadata": {
        "id": "blpPqBFZYGt8"
      },
      "execution_count": null,
      "outputs": []
    },
    {
      "cell_type": "code",
      "source": [
        "df = pd.DataFrame(digits_transformed, columns=['x', 'y'])\n",
        "df['label'] = digits.target\n",
        "df.head()"
      ],
      "metadata": {
        "id": "vp7z9EQCYRtW"
      },
      "execution_count": null,
      "outputs": []
    },
    {
      "cell_type": "markdown",
      "source": [
        "plotar resultados"
      ],
      "metadata": {
        "id": "XFKf-4niYgWC"
      }
    },
    {
      "cell_type": "code",
      "source": [
        "plt.rcParams['figure.figsize'] = (14, 8)\n",
        "sns.set(font_scale=2)"
      ],
      "metadata": {
        "id": "uydv7kMQYfj6"
      },
      "execution_count": null,
      "outputs": []
    },
    {
      "cell_type": "code",
      "source": [
        "_ = sns.scatterplot(x='x', y='y', data=df, hue='label', palette='rainbow', legend='full')\n"
      ],
      "metadata": {
        "id": "OSAee7dLY6z7"
      },
      "execution_count": null,
      "outputs": []
    },
    {
      "cell_type": "markdown",
      "source": [
        "Testandop hiperparamentros"
      ],
      "metadata": {
        "id": "bOy89325bmXN"
      }
    },
    {
      "cell_type": "code",
      "source": [
        "def run_umap_and_plot(n_neighbors, digits, min_dist=0.1):\n",
        "  digits_transformed = umap.UMAP(n_neighbors=n_neighbors, min_dist=min_dist).fit_transform(digits.data)\n",
        "\n",
        "  df = pd.DataFrame(digits_transformed, columns=['x', 'y'])\n",
        "  df['label'] = digits.target\n",
        "\n",
        "  _ = sns.scatterplot(x='x', y='y', data=df, hue='label', palette='rainbow', legend='full')\n",
        "  plt.legend(bbox_to_anchor=(1.05, 1), loc=2, borderaxespad=0.)"
      ],
      "metadata": {
        "id": "sdTCjl5MbkyR"
      },
      "execution_count": null,
      "outputs": []
    },
    {
      "cell_type": "code",
      "source": [
        "run_umap_and_plot(5, digits)"
      ],
      "metadata": {
        "id": "UL-N3igohUit"
      },
      "execution_count": null,
      "outputs": []
    },
    {
      "cell_type": "code",
      "source": [
        "run_umap_and_plot(10, digits)"
      ],
      "metadata": {
        "id": "UKoEW_zwhnp7"
      },
      "execution_count": null,
      "outputs": []
    },
    {
      "cell_type": "code",
      "source": [
        "run_umap_and_plot(20, digits)"
      ],
      "metadata": {
        "id": "kdOHnACjhqDD"
      },
      "execution_count": null,
      "outputs": []
    },
    {
      "cell_type": "code",
      "source": [],
      "metadata": {
        "id": "OA4lNOHfh1fD"
      },
      "execution_count": null,
      "outputs": []
    }
  ]
}